{
  "nbformat": 4,
  "nbformat_minor": 0,
  "metadata": {
    "colab": {
      "provenance": [],
      "toc_visible": true,
      "gpuType": "T4",
      "authorship_tag": "ABX9TyNXpCVom9V5K2EL16F6NOtr",
      "include_colab_link": true
    },
    "kernelspec": {
      "name": "python3",
      "display_name": "Python 3"
    },
    "language_info": {
      "name": "python"
    },
    "accelerator": "GPU"
  },
  "cells": [
    {
      "cell_type": "markdown",
      "metadata": {
        "id": "view-in-github",
        "colab_type": "text"
      },
      "source": [
        "<a href=\"https://colab.research.google.com/github/saissd/Data_science_Demo_2024/blob/main/datascience_notebook.ipynb\" target=\"_parent\"><img src=\"https://colab.research.google.com/assets/colab-badge.svg\" alt=\"Open In Colab\"/></a>"
      ]
    },
    {
      "cell_type": "markdown",
      "source": [
        "## ingest"
      ],
      "metadata": {
        "id": "A30fRLG1Pde_"
      }
    },
    {
      "cell_type": "code",
      "execution_count": 1,
      "metadata": {
        "id": "9wilZKBTO1Mb"
      },
      "outputs": [],
      "source": []
    },
    {
      "cell_type": "markdown",
      "source": [
        "## EDA"
      ],
      "metadata": {
        "id": "fzH-oZKIPnqX"
      }
    },
    {
      "cell_type": "code",
      "source": [],
      "metadata": {
        "id": "1kWbpw7pPS1I"
      },
      "execution_count": null,
      "outputs": []
    },
    {
      "cell_type": "markdown",
      "source": [
        "## Modeling"
      ],
      "metadata": {
        "id": "cEQmMWalPtlc"
      }
    },
    {
      "cell_type": "code",
      "source": [],
      "metadata": {
        "id": "S85FzVstPyeU"
      },
      "execution_count": null,
      "outputs": []
    },
    {
      "cell_type": "markdown",
      "source": [
        "## Classification Algorithm A"
      ],
      "metadata": {
        "id": "vkmIDKulPtvf"
      }
    },
    {
      "cell_type": "code",
      "source": [],
      "metadata": {
        "id": "EA_cjHJoP3E9"
      },
      "execution_count": null,
      "outputs": []
    },
    {
      "cell_type": "markdown",
      "source": [
        "## Classification Algorithm B"
      ],
      "metadata": {
        "id": "Ta6sJEKBP3X8"
      }
    },
    {
      "cell_type": "code",
      "source": [],
      "metadata": {
        "id": "A8p7F5f-P7gX"
      },
      "execution_count": null,
      "outputs": []
    },
    {
      "cell_type": "markdown",
      "source": [
        "## Conclusion"
      ],
      "metadata": {
        "id": "s9OfYr9gP7tl"
      }
    },
    {
      "cell_type": "code",
      "source": [],
      "metadata": {
        "id": "_c9jr7B5QA1I"
      },
      "execution_count": null,
      "outputs": []
    }
  ]
}